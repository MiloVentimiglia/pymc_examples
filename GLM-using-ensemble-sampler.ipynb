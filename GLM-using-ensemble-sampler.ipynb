{
 "cells": [
  {
   "cell_type": "markdown",
   "metadata": {},
   "source": [
    "##### PyMC3 Examples\n",
    "\n",
    "# GLM using Ensemble Sampler\n",
    "\n",
    "**A minimal reproducable example of integrating `emcee` with `pymc3` to use the Ensemble CSampler.**\n",
    "\n",
    "+ This is a bit of a hack\n",
    "+ The dataset is medium-size and download from an external source by this Notebook. \n",
    "\n",
    "\n",
    "**Note:**\n",
    "\n",
    "+ Python 3.4 project using latest available [PyMC3](https://github.com/pymc-devs/pymc3)\n",
    "+ Developed using [ContinuumIO Anaconda](https://www.continuum.io/downloads) distribution on a Macbook Pro 3GHz i7, 16GB RAM, OSX 10.10.5.\n",
    "+ If the models become unstable or Theano throws weird errors, try clearing the cache `$> theano-cache clear` and rerunning the notebook.\n",
    "\n",
    "\n",
    "**Package Requirements (shown as a conda-env YAML):**\n",
    "```\n",
    "$> less conda_env_pymc3_examples.yml\n",
    "\n",
    "name: pymc3_examples\n",
    "    channels:\n",
    "      - defaults\n",
    "    dependencies:\n",
    "      - python=3.4\n",
    "      - ipython\n",
    "      - ipython-notebook\n",
    "      - ipython-qtconsole\n",
    "      - numpy\n",
    "      - scipy\n",
    "      - matplotlib\n",
    "      - pandas\n",
    "      - seaborn\n",
    "      - patsy  \n",
    "      - pip\n",
    "\n",
    "$> conda env create --file conda_env_pymc3_examples.yml\n",
    "\n",
    "$> source activate pymc3_examples\n",
    "\n",
    "$> pip install --process-dependency-links git+https://github.com/pymc-devs/pymc3\n",
    "\n",
    "```"
   ]
  },
  {
   "cell_type": "markdown",
   "metadata": {},
   "source": [
    "# Setup"
   ]
  },
  {
   "cell_type": "code",
   "execution_count": 1,
   "metadata": {
    "collapsed": true
   },
   "outputs": [],
   "source": [
    "%matplotlib inline\n",
    "%qtconsole --colors=linux\n",
    "\n",
    "import warnings\n",
    "warnings.filterwarnings('ignore')"
   ]
  },
  {
   "cell_type": "code",
   "execution_count": 3,
   "metadata": {
    "collapsed": false
   },
   "outputs": [],
   "source": [
    "import numpy as np\n",
    "import pandas as pd\n",
    "import matplotlib.pyplot as plt\n",
    "import seaborn as sns\n",
    "\n",
    "from scipy import optimize\n",
    "import emcee\n",
    "import pymc3 as pm\n",
    "import theano as thno\n",
    "import theano.tensor as T \n",
    "\n",
    "# configure some basic options\n",
    "sns.set(style=\"darkgrid\", palette=\"muted\")\n",
    "pd.set_option('display.notebook_repr_html', True)\n",
    "plt.rcParams['figure.figsize'] = 12, 8\n",
    "np.random.seed(0)"
   ]
  },
  {
   "cell_type": "markdown",
   "metadata": {},
   "source": [
    "## Local Functions"
   ]
  },
  {
   "cell_type": "code",
   "execution_count": null,
   "metadata": {
    "collapsed": true
   },
   "outputs": [],
   "source": [
    "# def emceevals_to_pymcdict(emcee_vals, vn_pymc):\n",
    "#     \"\"\" \n",
    "#     Convenience function:\n",
    "#     Transform flat emcee vals to a pymc dict for use in lnprob\n",
    "#     \"\"\"\n",
    "    \n",
    "#     vardict = {}\n",
    "#     k = 0\n",
    "#     for vn in vn_pymc.keys():\n",
    "#         nvals = max(len(vn_pymc[vn]),1)\n",
    "#         vals = emcee_vals[k:k+nvals]\n",
    "#         vardict[vn] = vals if len(vals) > 1 else np.array(vals[0])\n",
    "#         k += nvals\n",
    "\n",
    "#     return vardict\n",
    "\n",
    "\n",
    "# def flatten_arr3d_fortran(arr3d):\n",
    "#     \"\"\" flatten 3d array to 2d array Fortran style  \"\"\"\n",
    "#     shptup = arr3d.shape\n",
    "#     return arr3d.reshape((shptup[0] * shptup[1], shptup[2]), order='F')"
   ]
  },
  {
   "cell_type": "markdown",
   "metadata": {},
   "source": [
    "# Acquire and Prepare Data"
   ]
  },
  {
   "cell_type": "code",
   "execution_count": null,
   "metadata": {
    "collapsed": true
   },
   "outputs": [],
   "source": [
    "# def get_raw_data(storename='data/store_01.h5'):\n",
    "#     \"\"\" Extract data from local store or go download it \"\"\"\n",
    "\n",
    "#     store = pd.HDFStore(storename)\n",
    "#     zip_url = 'http://carfueldata.direct.gov.uk/additional/aug2015/'\n",
    "#     zip_url_hr = 'http://carfueldata.direct.gov.uk/downloads/download.aspx?rg=aug2015'\n",
    "#     zip_fn = 'download-data-for-Aug-2015-Euro-6.zip'\n",
    "#     key_raw = '/raw'\n",
    "    \n",
    "#     if key_raw not in store.keys():  # then go get info from interwebs\n",
    "#         try:         \n",
    "#             r = requests.get(zip_url+zip_fn)\n",
    "#             f = ZipFile(BytesIO(r.content),mode='r')\n",
    "#             fn = f.namelist()[0]\n",
    "#             dfraw = pd.read_csv(f.open(fn), encoding='cp1252', sep=',') # <- Excel encoding!   \n",
    "#             dfraw.rename(columns=lambda x: col_renamer(x), inplace=True)\n",
    "#             dfraw.drop([c for c in dfraw.columns if c[:3] == 'unn'], inplace=True, axis=1)\n",
    "\n",
    "#             # TODO: clean dtypes! causing issues when saving\n",
    "            \n",
    "#             store[key_raw] = dfraw\n",
    "#             print('Retrived dataset from web {}'.format(zip_url_hr))\n",
    "        \n",
    "#         except pd.io.pytables.PerformanceWarning as e:\n",
    "#             logging.warning('{}'.format(e))\n",
    "#         except Exception as e:\n",
    "#             logging.error('{}'.format(e))\n",
    "#             #return None\n",
    "#     else:\n",
    "#         dfraw = store[key_raw]\n",
    "#         print('Used dataset from file {}'.format(storename))\n",
    "    \n",
    "#     store.close()\n",
    "    \n",
    "#     return dfraw"
   ]
  },
  {
   "cell_type": "code",
   "execution_count": null,
   "metadata": {
    "collapsed": true
   },
   "outputs": [],
   "source": []
  },
  {
   "cell_type": "markdown",
   "metadata": {},
   "source": [
    "# Create Model"
   ]
  },
  {
   "cell_type": "code",
   "execution_count": null,
   "metadata": {
    "collapsed": true
   },
   "outputs": [],
   "source": [
    "# with pymc.Model() as price_model:\n",
    "\n",
    "\n",
    "#     # put cluster categories on hierarchical intercept\n",
    "#     intercept_mu = pymc.Normal('intercept_mu', mu=0, sd=1e3)\n",
    "#     intercept_tau = pymc.Gamma('intercept_tau', alpha=1, beta=10)  \n",
    "#     intercept = pymc.Normal('intercept', mu=intercept_mu, tau=intercept_tau\n",
    "#                         , shape=len(feats_fctr_li_train['clustername']['lbl']))\n",
    "\n",
    "\n",
    "#     # define linear model\n",
    "#     y_est = intercept[feats_fctr_li_train['clustername']['idx']]\n",
    "\n",
    "\n",
    "#     # add on factor feats\n",
    "#     f_feats = {}\n",
    "#     for nm in feats_fctr_li_train.keys()[1:]:\n",
    "#         f_feats['f_{}'.format(nm)] = pymc.Normal('f_{}'.format(nm),mu=0,sd=1e3)\n",
    "#         y_est += f_feats['f_{}'.format(nm)] * feats_fctr_li_train[nm]['idx']\n",
    "\n",
    "\n",
    "#     # add on linear coeffs (standardized feats)\n",
    "#     b_feats = {}\n",
    "#     for nm in feats_coeff_linear2sd:\n",
    "#         b_feats['b_{}'.format(nm)] = pymc.Normal('b_{}'.format(nm),mu=0,sd=1e3)\n",
    "#         y_est += b_feats['b_{}'.format(nm)] * mdi['df_train'][nm].values\n",
    "\n",
    "\n",
    "#     # create likelihood dist with stochastic error\n",
    "#     epsilon = pymc.Gamma('epsilon', alpha=1, beta=10)      \n",
    "\n",
    "#     likelihood = pymc.Normal('likelihood', mu=y_est, tau=epsilon\n",
    "#                                 ,observed=mdi['df_train'][feat_price].values)         \n",
    "      \n",
    "\n",
    "# ## find map\n",
    "# with price_model:\n",
    "#     start_MAP = find_MAP(fmin=optimize.fmin_powell)\n",
    "\n",
    "\n"
   ]
  },
  {
   "cell_type": "code",
   "execution_count": null,
   "metadata": {
    "collapsed": true
   },
   "outputs": [],
   "source": [
    "    \n",
    "# p0_MAP = []\n",
    "# [p0_MAP.extend(start_MAP[vn].ravel()) for vn in mdi['vn_pymc'].keys()]\n",
    "\n",
    "#         modelnm = 'model_{}'.format(feat_price)     # new dict for model run\n",
    "#         modelnms.append(modelnm)\n",
    "#         mdi[modelnm] = {'p0_MAP': np.array(p0_MAP)}  \n",
    "\n",
    "#         ## Sample using emcee\n",
    "#         def lnprob(emceevals):\n",
    "#             \"\"\" calculate log-prob using pymc3 model logp(), convert vn_emcee to vn_pymc \"\"\"\n",
    "#             pymc_vardict = emceevals_to_pymcdict(emceevals, mdi['vn_pymc'])\n",
    "#             logp_arr = price_model.logp(pymc_vardict).ravel()\n",
    "#             return logp_arr[0]\n",
    "\n",
    "#         nwalkers = 200\n",
    "#         nsteps = 1000\n",
    "#         p0 = emcee.utils.sample_ball(mdi[modelnm]['p0_MAP']\n",
    "#                                      , np.abs(mdi[modelnm]['p0_MAP'])*0.3, nwalkers)         \n",
    "\n",
    "#         sampler = emcee.EnsembleSampler(p0.shape[0], p0.shape[1], lnprob)\n",
    "#         pbar = pb.ProgressBar(widgets=pbar_widgets_emcee, maxval=nsteps * nwalkers,).start()\n",
    "#         for i, _ in enumerate(sampler.sample(p0, iterations=nsteps, storechain=True)):\n",
    "#             pbar.update((i+1)*nwalkers)\n",
    "#         pbar.finish()\n",
    "#         mdi[modelnm]['sampler_chain'] = sampler.chain\n"
   ]
  },
  {
   "cell_type": "code",
   "execution_count": null,
   "metadata": {
    "collapsed": true
   },
   "outputs": [],
   "source": [
    "# Optional diagnostic check, sample using PyMC NUTS Sampler\n",
    "\n",
    "# <codecell>\n",
    "\n",
    "# with price_model:\n",
    "#     trace_nuts = pymc.sample(1000, step=pymc.NUTS(), start=start_MAP)\n",
    "\n",
    "# <codecell>\n",
    "\n",
    "# pymc.traceplot(trace_nuts)"
   ]
  },
  {
   "cell_type": "code",
   "execution_count": null,
   "metadata": {
    "collapsed": true
   },
   "outputs": [],
   "source": []
  },
  {
   "cell_type": "code",
   "execution_count": null,
   "metadata": {
    "collapsed": true
   },
   "outputs": [],
   "source": []
  },
  {
   "cell_type": "code",
   "execution_count": null,
   "metadata": {
    "collapsed": true
   },
   "outputs": [],
   "source": []
  },
  {
   "cell_type": "markdown",
   "metadata": {},
   "source": [
    "---"
   ]
  },
  {
   "cell_type": "markdown",
   "metadata": {},
   "source": [
    "Example originally contributed by Jonathan Sedar 2016-01-10 [github.com/jonsedar](https://github.com/jonsedar)"
   ]
  }
 ],
 "metadata": {
  "kernelspec": {
   "display_name": "Python 3",
   "language": "python",
   "name": "python3"
  },
  "language_info": {
   "codemirror_mode": {
    "name": "ipython",
    "version": 3
   },
   "file_extension": ".py",
   "mimetype": "text/x-python",
   "name": "python",
   "nbconvert_exporter": "python",
   "pygments_lexer": "ipython3",
   "version": "3.4.3"
  }
 },
 "nbformat": 4,
 "nbformat_minor": 0
}
